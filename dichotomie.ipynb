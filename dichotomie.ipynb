{
 "cells": [
  {
   "attachments": {},
   "cell_type": "markdown",
   "metadata": {},
   "source": [
    " <p style=\"text-align: center;font-size: 45px;\"><b>La recherche dichotomique</b></p>\n",
    "\n",
    "\n",
    ">F.PEURIERE  \n",
    ">M.SZPIEG "
   ]
  },
  {
   "attachments": {},
   "cell_type": "markdown",
   "metadata": {},
   "source": [
    "## RETOUR SUR LE JEU \"PLUS GRAND, PLUS PETIT\":\n",
    "Revenons sur le programme du jeu « plus grand, plus petit » : il  commence par tirer un nombre entier au hasard entre 0 et 100.Puis, il demande à l’utilisateur d’entrer un nombre. Il affiche « trop grand » si le nombre de l’utilisateur dépasse celui à deviner, « trop petit » sinon. Ce processus doit se répéter jusqu’à ce que l’utilisateur devine le bon nombre. A la fin, il affiche « gagné ! » puis le nombre de coups dont le joueur a eu besoin pour gagner."
   ]
  },
  {
   "cell_type": "code",
   "execution_count": null,
   "metadata": {},
   "outputs": [],
   "source": [
    "from random import *\n",
    "\n",
    "def jeu():\n",
    "    nombre=randint(0,101)\n",
    "    print(\" plus grand - plus petit \".center(40,\"*\"))\n",
    "    entree=int(input(\"\\nEntrez un nombre entre 0 et 100, vous avez droit à 7 essais: \"))\n",
    "    coups=0\n",
    "    while True: # On reste dans la boucle tant que le joueur n´a pas trouvé\n",
    "        coups+=1\n",
    "        print(\"\\n\",)\n",
    "        if coups>6 and entree!=nombre:\n",
    "            print(\"Perdu\".center(30,\"-\"))\n",
    "            print(\"Le nombre à trouver était:\",nombre)\n",
    "            return\n",
    "        elif entree>nombre:\n",
    "            print(entree,\" est trop grand...\")\n",
    "            print(\"Il vous reste \",7-coups,\" essais.\\n\")\n",
    "            entree=int(input(\"Entrez un autre nombre: \"))\n",
    "        elif entree<nombre:\n",
    "            print(entree,\" est trop petit...\")\n",
    "            print(\"Il vous reste \",7-coups,\" essais.\\n\")\n",
    "            entree=int(input(\"Entrez un autre nombre: \"))\n",
    "        else:\n",
    "            print(\"Gagné!\".center(40,\"-\"))\n",
    "            print(\"\\nVous avez trouvé le nombre\",nombre,\"en\",coups,\"coups!\")\n",
    "            return"
   ]
  },
  {
   "attachments": {},
   "cell_type": "markdown",
   "metadata": {},
   "source": [
    "Lancez le jeu et essayer de déterminer la stratégie optimale pour trouver le nombre avec le moins de tentatives possible. Quel est le nombre maximal de tentatives avec cette stratégie?"
   ]
  },
  {
   "cell_type": "code",
   "execution_count": null,
   "metadata": {},
   "outputs": [],
   "source": [
    "jeu()"
   ]
  },
  {
   "attachments": {},
   "cell_type": "markdown",
   "metadata": {},
   "source": [
    "Écrivons une fonction ```repetition(n)``` qui calcule et renvoie le nombre de tentative maximale du jeu pour des entiers entre 0 et n. Cela revient à calculer le plus petit entier f\n",
    "tel que 2<sup>f</sup>>n."
   ]
  },
  {
   "cell_type": "code",
   "execution_count": null,
   "metadata": {},
   "outputs": [],
   "source": [
    "def repetition(n):\n",
    "    pass\n",
    "    # tant que la division de n par 2 est plus grande que 1, on continue..."
   ]
  },
  {
   "attachments": {},
   "cell_type": "markdown",
   "metadata": {},
   "source": [
    "Faites le test pour n=100"
   ]
  },
  {
   "cell_type": "code",
   "execution_count": null,
   "metadata": {},
   "outputs": [],
   "source": [
    "# test"
   ]
  },
  {
   "attachments": {},
   "cell_type": "markdown",
   "metadata": {},
   "source": [
    "Il existe une fonction mathématique qui permet de calculer le réel f\n",
    "tel que 2<sup>f</sup>=n. C´est le logarithme de base 2 qui s´écrit log<sub>2</sub>(n).<br>\n",
    "On le calcule en Python avec le module ```math```:"
   ]
  },
  {
   "cell_type": "code",
   "execution_count": null,
   "metadata": {},
   "outputs": [],
   "source": [
    "from math import *\n",
    "#calcul pour n=100"
   ]
  },
  {
   "attachments": {},
   "cell_type": "markdown",
   "metadata": {},
   "source": [
    "## RECHERCHE D´UN MOT:\n",
    "\n",
    "Observez  attentivement et testez l´animation [dichotomie](http://fred.boissac.free.fr/AnimsJS/Dariush_Dichotomie/index.html)<br> Un fichier texte contient 386 265 mots dans l´ordre alphabétique. Le joueur pense à un mot, le programme doit le deviner le plus rapidement possible..."
   ]
  },
  {
   "attachments": {},
   "cell_type": "markdown",
   "metadata": {},
   "source": [
    "Justifiez par un calcul le choix de `GRENOUILLERONS` pour commencer le jeu."
   ]
  },
  {
   "cell_type": "code",
   "execution_count": null,
   "metadata": {},
   "outputs": [],
   "source": [
    "# calcul"
   ]
  },
  {
   "attachments": {},
   "cell_type": "markdown",
   "metadata": {},
   "source": [
    "Calculez le <b>nombre de tentatives maximales</b> en appliquant toujours la même stratégie:"
   ]
  },
  {
   "cell_type": "code",
   "execution_count": null,
   "metadata": {},
   "outputs": [],
   "source": [
    "# calcul"
   ]
  },
  {
   "attachments": {},
   "cell_type": "markdown",
   "metadata": {},
   "source": [
    "## RECHERCHE SÉQUENTIELLE DANS UNE LISTE TRIÉE:\n",
    "\n",
    "Avant d´aborder la recherche dichotomique, écrivons une fonction `sequentielle(liste,valeur)`qui recherche l´indice d´une `valeur` entière dans une liste en la parcourant du début à la fin. La fonction retourne `-1` si la valeur n´est pas trouvée.\n"
   ]
  },
  {
   "cell_type": "code",
   "execution_count": null,
   "metadata": {},
   "outputs": [],
   "source": [
    "def sequentielle(liste,valeur):\n",
    "    n=len(liste)\n",
    "    pass\n",
    "    # A compléter"
   ]
  },
  {
   "attachments": {},
   "cell_type": "markdown",
   "metadata": {},
   "source": [
    "Testez la fonction en recherchant la valeur `8` dans la liste `a`."
   ]
  },
  {
   "cell_type": "code",
   "execution_count": null,
   "metadata": {},
   "outputs": [],
   "source": [
    "a=[1, 2, 4, 6, 8, 10]\n",
    "# appel de la fonction"
   ]
  },
  {
   "attachments": {},
   "cell_type": "markdown",
   "metadata": {},
   "source": [
    "Quelle est la complexité de la recherche séquentielle (linear search) <b> dans le pire des cas</b>?"
   ]
  },
  {
   "attachments": {},
   "cell_type": "markdown",
   "metadata": {},
   "source": [
    "Réponse:"
   ]
  },
  {
   "attachments": {},
   "cell_type": "markdown",
   "metadata": {},
   "source": [
    "## RECHERCHE DICHOTOMIQUE:\n",
    "\n",
    "La dichotomie est une autre stratégie de recherche d´une valeur dans une liste triée.\n",
    "Nous l´avons utilisée dans le jeu \"plus grand, plus petit\" et dans la recherche d'un mot dans un dictionnaire.\n",
    "<br> Pour mieux comprendre son principe, observez  attentivement et testez l´animation [dichotomie (binary search)](https://www.cs.usfca.edu/~galles/visualization/Search.html)<br>\n"
   ]
  },
  {
   "attachments": {},
   "cell_type": "markdown",
   "metadata": {},
   "source": [
    "Complétez la fonction `dichotomie(liste,valeur)` qui recherche l´indice d´une `valeur` entière dans une liste triée par <b>dichotomie</b>. La fonction retourne `-1` si la valeur n´est pas trouvée."
   ]
  },
  {
   "cell_type": "code",
   "execution_count": 1,
   "metadata": {},
   "outputs": [],
   "source": [
    "def dichotomie(liste,valeur) :\n",
    "    debut=0 # indice de la première valeur de la liste\n",
    "    fin=len(liste)-1 # indice de la dernière valeur de la liste\n",
    "    milieu=(debut+fin)//2 # indice du milieu de la liste\n",
    "    while debut <= fin :\n",
    "        pass\n",
    "        # si la valeur est celle du milieu, on l´a trouvée!\n",
    "        # sinon, si la valeur est plus petite...\n",
    "        # si elle est plus grande...\n",
    "        # on met à jour le nouveau milieu\n",
    "    return -1 # cas où la valeur est absente de la liste"
   ]
  },
  {
   "attachments": {},
   "cell_type": "markdown",
   "metadata": {},
   "source": [
    "Testez la fonction en recherchant la valeur `8` dans la liste `a`."
   ]
  },
  {
   "cell_type": "code",
   "execution_count": 4,
   "metadata": {},
   "outputs": [
    {
     "data": {
      "text/plain": [
       "-1"
      ]
     },
     "execution_count": 4,
     "metadata": {},
     "output_type": "execute_result"
    }
   ],
   "source": [
    "a=[1, 2, 4, 6, 8, 10]\n",
    "# test"
   ]
  },
  {
   "attachments": {},
   "cell_type": "markdown",
   "metadata": {},
   "source": [
    "Quelle est la complexité de la recherche dichotomique <b> dans le pire des cas</b>?"
   ]
  },
  {
   "attachments": {},
   "cell_type": "markdown",
   "metadata": {},
   "source": [
    "réponse:"
   ]
  },
  {
   "attachments": {},
   "cell_type": "markdown",
   "metadata": {},
   "source": [
    " y=x (rouge), y=x<sup>2</sup> (bleu) et y=log<sub>2</sub>(x) (vert).\n",
    " \n",
    " <img src=\"http://www.fredpeuriere.com/NSI/algorithmique-4/dicho.png\"/>"
   ]
  },
  {
   "attachments": {},
   "cell_type": "markdown",
   "metadata": {},
   "source": [
    "---\n",
    "Équipe pédagoqique de la spécialité NSI, Frédéric PEURIERE, ressource éducative libre distribuée sous [Licence Creative Commons Attribution - Partage dans les mêmes conditions 4.0 International](http://creativecommons.org/licenses/by-sa/4.0/deed.fr) ![Licence Creative Commons (CC BY-SA 4.0)](https://i.creativecommons.org/l/by-sa/4.0/88x31.png)\n"
   ]
  }
 ],
 "metadata": {
  "kernelspec": {
   "display_name": "Python 3",
   "language": "python",
   "name": "python3"
  },
  "language_info": {
   "codemirror_mode": {
    "name": "ipython",
    "version": 3
   },
   "file_extension": ".py",
   "mimetype": "text/x-python",
   "name": "python",
   "nbconvert_exporter": "python",
   "pygments_lexer": "ipython3",
   "version": "3.11.1"
  }
 },
 "nbformat": 4,
 "nbformat_minor": 2
}
