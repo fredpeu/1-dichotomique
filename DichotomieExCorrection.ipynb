{
 "cells": [
  {
   "cell_type": "markdown",
   "metadata": {},
   "source": [
    "\n",
    " <p style=\"text-align: center;font-size: 35px;\"><b>DICHOTOMIE</b> <span style=\"color: red\">Correction</span></p> \n",
    "\n",
    "\n",
    ">F.PEURIERE  \n",
    ">M.SZPIEG \n",
    "\n",
    "\n",
    "  ##  RESOUDRE UNE EQUATION PAR DICHOTOMIE :\n"
   ]
  },
  {
   "cell_type": "markdown",
   "metadata": {},
   "source": [
    "Soit $f$ la fonction définie par : $f(x)=3x^3 + 3x^2 + x -1$. On veut une solution approchée de l'équation $f(x) = 0$ <br> "
   ]
  },
  {
   "cell_type": "markdown",
   "metadata": {},
   "source": [
    "<div class=\"alert alert-block alert-info\">1) Grâce à votre calculatrice ou à Geogebra, encadrer la solution de cette équation par <b>deux nombres entiers successifs</b>."
   ]
  },
  {
   "cell_type": "markdown",
   "metadata": {},
   "source": [
    "Réponse : graphiquement, on trouve que la solution de cette équation est comprise entre 0 et 1."
   ]
  },
  {
   "cell_type": "markdown",
   "metadata": {},
   "source": [
    "<div class=\"alert alert-block alert-info\">2) Créer la <b>fonction $f$</b> qui prend en argument un nombre, et qui renvoie son image par la fonction $f$ décrite ci-dessus. <br> Tester pour quelques valeurs.  </div>"
   ]
  },
  {
   "cell_type": "code",
   "execution_count": 4,
   "metadata": {},
   "outputs": [
    {
     "data": {
      "text/plain": [
       "-1"
      ]
     },
     "execution_count": 4,
     "metadata": {},
     "output_type": "execute_result"
    }
   ],
   "source": [
    "from math import*\n",
    "def f(x):\n",
    "    return 3*x**3+3*x**2+x-1\n",
    "\n",
    "f(0)"
   ]
  },
  {
   "cell_type": "markdown",
   "metadata": {},
   "source": [
    "<div class=\"alert alert-block alert-info\">3) On aimerait trouver une solution approchée de l'équation $f(x)=0$ au centième en utilisant la méthode de la dichotomie. <br> Compléter l'algorithme suivant afin de trouver cette approximation, puis le tester. Que remarque-t-on ? </div>"
   ]
  },
  {
   "cell_type": "code",
   "execution_count": 8,
   "metadata": {},
   "outputs": [
    {
     "data": {
      "text/plain": [
       "(0.3828125, 7)"
      ]
     },
     "execution_count": 8,
     "metadata": {},
     "output_type": "execute_result"
    }
   ],
   "source": [
    "def dicho_f():\n",
    "    debut=0\n",
    "    fin=1\n",
    "    ecart=fin-debut\n",
    "    cpt=0\n",
    "    while ecart>0.01 :\n",
    "        m=(debut+fin)/2\n",
    "        if f(m)>0:\n",
    "            fin=m\n",
    "        else:\n",
    "            debut=m\n",
    "        ecart=fin-debut\n",
    "        cpt+=1\n",
    "    return m,cpt\n",
    "\n",
    "dicho_f()"
   ]
  },
  {
   "cell_type": "markdown",
   "metadata": {},
   "source": [
    "Réponse : on trouve 0,3828125. La précision semble être au dela de celle demandée. Mais 0,01 correspond à <b>l'écart</b> entre les 2 bornes du dernier encadrement fait dans la boucle while. Cela nous garantit donc que 0,3828125 est proche de la solution exacte à moins de 0,01 près. On peut donc affirmer qu'une approximation de la solution au centième est donc 0,38 (mais on ne garantit pas que les autres nombres de la partie décimale donnent une bonne approximation!)"
   ]
  },
  {
   "cell_type": "markdown",
   "metadata": {},
   "source": [
    "<div class=\"alert alert-block alert-info\">4) Peut-on prévoir <b>le nombre d'itérations</b> de la boucle while pour que l'approximation soit au centième? Expliquer mathématiquement. (on pourra rajouter un compteur dans la boucle pour vérifier) </div>"
   ]
  },
  {
   "cell_type": "markdown",
   "metadata": {},
   "source": [
    "Réponse : on veut trouver la valeur de $n$ telle que $\\dfrac{1}{2^n}<0,01$, ce qui revient au même que $2^n>100$. Pour cela, on se sert du logarithme en base 2 vu lors de l'activité précédente : $2^n>100 \\iff  n>\\log_2(100) \\iff n> 6,6$. On trouve donc qu'il suffit de 7 itérations de la boucle while pour trouver une valeur approchée de la solution au centième."
   ]
  },
  {
   "cell_type": "code",
   "execution_count": 6,
   "metadata": {},
   "outputs": [
    {
     "data": {
      "text/plain": [
       "6.643856189774725"
      ]
     },
     "execution_count": 6,
     "metadata": {},
     "output_type": "execute_result"
    }
   ],
   "source": [
    "log(100,2)"
   ]
  },
  {
   "cell_type": "markdown",
   "metadata": {},
   "source": [
    "<div class=\"alert alert-block alert-info\">5) Modifier la fonction précédente afin que l'utilisateur donne en argument <b>la précision de l'approximation.</b> </div>"
   ]
  },
  {
   "cell_type": "code",
   "execution_count": 12,
   "metadata": {},
   "outputs": [],
   "source": [
    "def dicho_f(precision):\n",
    "    debut=0\n",
    "    fin=1\n",
    "    ecart=fin-debut\n",
    "    cpt=0\n",
    "    while ecart>precision :\n",
    "        m=(debut+fin)/2\n",
    "        if f(m)>0:\n",
    "            fin=m\n",
    "        else:\n",
    "            debut=m\n",
    "        ecart=fin-debut\n",
    "        cpt+=1\n",
    "    return m,cpt"
   ]
  },
  {
   "cell_type": "markdown",
   "metadata": {},
   "source": [
    "<div class=\"alert alert-block alert-info\">6) Quelle approximation de la solution <b>au millionième</b> trouvez-vous? Préciser le nombre d'itérations de la boucle while.</div>"
   ]
  },
  {
   "cell_type": "code",
   "execution_count": 13,
   "metadata": {},
   "outputs": [
    {
     "name": "stdout",
     "output_type": "stream",
     "text": [
      "(0.3848123550415039, 20)\n"
     ]
    },
    {
     "data": {
      "text/plain": [
       "19.931568569324174"
      ]
     },
     "execution_count": 13,
     "metadata": {},
     "output_type": "execute_result"
    }
   ],
   "source": [
    "print(dicho_f(0.000001))\n",
    "log(1000000,2)"
   ]
  },
  {
   "cell_type": "markdown",
   "metadata": {},
   "source": [
    "Réponse : un arrondi de la solution au millionième est donc 0,384812.<br> Il aura fallu 20 itérations de la boucle while pour trouver cette approximation (ce qui correspond bien au compteur!)."
   ]
  },
  {
   "cell_type": "markdown",
   "metadata": {},
   "source": [
    "<div class=\"alert alert-block alert-info\">7) Modifiez la fonction <b>dicho_f</b> afin de résoudre l'équation $f(x)=a$ avec le $a$ choisi par l'utilisateur (qui est un nouvel argument de la fonction). </div>\n",
    "<br>\n",
    "    Attention, il faudra que l'utilisateur <b>connaisse au préalable</b> un encadrement de la solution. Il y aura donc <b>deux arguments supplémentaires</b> à considérer : un minorant et un majorant de la solution, à trouver avec la calculatrice ou Geogebra."
   ]
  },
  {
   "cell_type": "code",
   "execution_count": 28,
   "metadata": {},
   "outputs": [],
   "source": [
    "def dicho_f(a,minorant,majorant,precision):\n",
    "    debut=minorant\n",
    "    fin=majorant\n",
    "    ecart=fin-debut\n",
    "    while ecart>precision :\n",
    "        m=(debut+fin)/2\n",
    "        if f(m)>a:\n",
    "            fin=m\n",
    "        else:\n",
    "            debut=m\n",
    "        ecart=fin-debut\n",
    "    return m"
   ]
  },
  {
   "cell_type": "markdown",
   "metadata": {},
   "source": [
    "<div class=\"alert alert-block alert-info\">8) Avec la fonction faite à la question 6), donner une solution approchée au millième de l'équation $f(x)=-3$."
   ]
  },
  {
   "cell_type": "code",
   "execution_count": 29,
   "metadata": {},
   "outputs": [
    {
     "data": {
      "text/plain": [
       "-1.1904296875"
      ]
     },
     "execution_count": 29,
     "metadata": {},
     "output_type": "execute_result"
    }
   ],
   "source": [
    "dicho_f(-3,-2,-1,0.001)"
   ]
  },
  {
   "cell_type": "markdown",
   "metadata": {},
   "source": [
    "Réponse : -1,190"
   ]
  },
  {
   "cell_type": "markdown",
   "metadata": {},
   "source": [
    "---\n",
    "Équipe pédagoqique de la spécialité NSI, Frédéric PEURIERE, ressource éducative libre distribuée sous [Licence Creative Commons Attribution - Partage dans les mêmes conditions 4.0 International](http://creativecommons.org/licenses/by-sa/4.0/deed.fr) ![Licence Creative Commons (CC BY-SA 4.0)](https://i.creativecommons.org/l/by-sa/4.0/88x31.png)\n"
   ]
  }
 ],
 "metadata": {
  "kernelspec": {
   "display_name": "Python 3",
   "language": "python",
   "name": "python3"
  },
  "language_info": {
   "codemirror_mode": {
    "name": "ipython",
    "version": 3
   },
   "file_extension": ".py",
   "mimetype": "text/x-python",
   "name": "python",
   "nbconvert_exporter": "python",
   "pygments_lexer": "ipython3",
   "version": "3.8.8"
  }
 },
 "nbformat": 4,
 "nbformat_minor": 2
}
