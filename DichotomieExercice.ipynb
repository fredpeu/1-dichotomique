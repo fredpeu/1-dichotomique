{
 "cells": [
  {
   "cell_type": "markdown",
   "metadata": {},
   "source": [
    "\n",
    " <p style=\"text-align: center;font-size: 35px;\"><b>DICHOTOMIE</b> <span style=\"color: red\">Exercice</span></p> \n",
    "\n",
    "\n",
    ">F.PEURIERE  \n",
    ">M.SZPIEG \n",
    "\n",
    "\n",
    "  ##  RESOUDRE UNE EQUATION PAR DICHOTOMIE :\n"
   ]
  },
  {
   "cell_type": "markdown",
   "metadata": {},
   "source": [
    "Soit $f$ la fonction définie par : $f(x)=3x^3 + 3x^2 + x -1$. On veut une solution approchée de l'équation $f(x) = 0$ <br> "
   ]
  },
  {
   "cell_type": "markdown",
   "metadata": {},
   "source": [
    "<div class=\"alert alert-block alert-info\">1) Grâce à votre calculatrice ou à Geogebra, encadrer la solution de cette équation par <b>deux nombres entiers successifs</b>."
   ]
  },
  {
   "cell_type": "markdown",
   "metadata": {},
   "source": [
    "Réponse:"
   ]
  },
  {
   "cell_type": "markdown",
   "metadata": {},
   "source": [
    "<div class=\"alert alert-block alert-info\">2) Créer la <b>fonction $f$</b> qui prend en argument un nombre, et qui renvoie son image par la fonction $f$ décrite ci-dessus. <br> Tester pour quelques valeurs.  </div>"
   ]
  },
  {
   "cell_type": "code",
   "execution_count": 1,
   "metadata": {},
   "outputs": [],
   "source": [
    "def f(x):\n",
    "    pass\n",
    "    # retourner l'image de x par la fonction f.\n",
    "\n",
    "# appel de la fonction"
   ]
  },
  {
   "cell_type": "markdown",
   "metadata": {},
   "source": [
    "<div class=\"alert alert-block alert-info\">3) On aimerait trouver une solution approchée de l'équation $f(x)=0$ au centième en utilisant la méthode de la dichotomie. <br> Compléter l'algorithme suivant afin de trouver cette approximation, puis le tester. Que remarque-t-on ? </div>"
   ]
  },
  {
   "cell_type": "code",
   "execution_count": 3,
   "metadata": {},
   "outputs": [],
   "source": [
    "def dicho_f():\n",
    "    debut=0\n",
    "    fin=1\n",
    "    ecart=fin-debut\n",
    "    while ecart :#condition à compléter\n",
    "        pass\n",
    "        # on se place au milieu de l'intervalle\n",
    "        # si l'image de ce nombre est positive ...\n",
    "        # sinon ...\n",
    "    return  # à compléter\n",
    "\n",
    "# appel de la fonction"
   ]
  },
  {
   "cell_type": "markdown",
   "metadata": {},
   "source": [
    "Réponse:"
   ]
  },
  {
   "cell_type": "markdown",
   "metadata": {},
   "source": [
    "<div class=\"alert alert-block alert-info\">4) Peut-on prévoir <b>le nombre d'itérations</b> de la boucle while pour que l'approximation soit au centième? Expliquer mathématiquement. (on pourra rajouter un compteur dans la boucle pour vérifier) </div>"
   ]
  },
  {
   "cell_type": "markdown",
   "metadata": {},
   "source": [
    "Réponse:"
   ]
  },
  {
   "cell_type": "code",
   "execution_count": 2,
   "metadata": {},
   "outputs": [],
   "source": [
    "#calcul pour déterminer le nombre d'itérations"
   ]
  },
  {
   "cell_type": "markdown",
   "metadata": {},
   "source": [
    "<div class=\"alert alert-block alert-info\">5) Modifier la fonction précédente afin que l'utilisateur donne en argument <b>la précision de l'approximation.</b> </div>"
   ]
  },
  {
   "cell_type": "code",
   "execution_count": null,
   "metadata": {},
   "outputs": [],
   "source": [
    "def dicho_f(precision):\n",
    "    debut=0\n",
    "    fin=1\n",
    "    while fin-debut :#condition à compléter\n",
    "        pass\n",
    "        # on se place au milieu de l'intervalle\n",
    "        # si l'image de ce nombre est négative ...\n",
    "        # sinon ...\n",
    "    return  # à compléter"
   ]
  },
  {
   "cell_type": "markdown",
   "metadata": {},
   "source": [
    "<div class=\"alert alert-block alert-info\">6) Quelle approximation de la solution <b>au millionième</b> trouvez-vous? Préciser le nombre d'itérations de la boucle while.</div>"
   ]
  },
  {
   "cell_type": "code",
   "execution_count": 3,
   "metadata": {},
   "outputs": [],
   "source": [
    "# appel de la fonction\n",
    "# calcul pour déterminer le nombre d'itérations"
   ]
  },
  {
   "cell_type": "markdown",
   "metadata": {},
   "source": [
    "Réponse:"
   ]
  },
  {
   "cell_type": "markdown",
   "metadata": {},
   "source": [
    "<div class=\"alert alert-block alert-info\">7) Modifiez la fonction <b>dicho_f</b> afin de résoudre l'équation $f(x)=a$ avec le $a$ choisi par l'utilisateur (qui est un nouvel argument de la fonction). </div>\n",
    "<br>\n",
    "    Attention, il faudra que l'utilisateur <b>connaisse au préalable</b> un encadrement de la solution. Il y aura donc <b>deux arguments supplémentaires</b> à considérer : un minorant et un majorant de la solution, à trouver avec la calculatrice ou Geogebra."
   ]
  },
  {
   "cell_type": "code",
   "execution_count": 5,
   "metadata": {
    "scrolled": true
   },
   "outputs": [
    {
     "ename": "SyntaxError",
     "evalue": "invalid syntax (<ipython-input-5-2afb8ed12872>, line 2)",
     "output_type": "error",
     "traceback": [
      "\u001b[0;36m  File \u001b[0;32m\"<ipython-input-5-2afb8ed12872>\"\u001b[0;36m, line \u001b[0;32m2\u001b[0m\n\u001b[0;31m    debut= #à préciser\u001b[0m\n\u001b[0m           ^\u001b[0m\n\u001b[0;31mSyntaxError\u001b[0m\u001b[0;31m:\u001b[0m invalid syntax\n"
     ]
    }
   ],
   "source": [
    "def dicho_f(a,minorant,majorant,precision):\n",
    "    debut= #à préciser\n",
    "    fin= #à préciser\n",
    "    while fin-debut :#condition à compléter\n",
    "        pass\n",
    "        # on se place au milieu de l'intervalle\n",
    "        # si l'image de ce nombre est négative ...\n",
    "        # sinon ...\n",
    "    return  # à compléter\n",
    "\n",
    "# appel de la fonction"
   ]
  },
  {
   "cell_type": "markdown",
   "metadata": {},
   "source": [
    "<div class=\"alert alert-block alert-info\">8) Avec la fonction faite à la question 7), donner une solution approchée au millième de l'équation $f(x)=-3$."
   ]
  },
  {
   "cell_type": "code",
   "execution_count": 6,
   "metadata": {},
   "outputs": [],
   "source": [
    "# appel de la fonction"
   ]
  },
  {
   "cell_type": "markdown",
   "metadata": {},
   "source": [
    "Réponse:"
   ]
  },
  {
   "cell_type": "markdown",
   "metadata": {},
   "source": [
    "---\n",
    "Équipe pédagoqique de la spécialité NSI, Frédéric PEURIERE, ressource éducative libre distribuée sous [Licence Creative Commons Attribution - Partage dans les mêmes conditions 4.0 International](http://creativecommons.org/licenses/by-sa/4.0/deed.fr) ![Licence Creative Commons (CC BY-SA 4.0)](https://i.creativecommons.org/l/by-sa/4.0/88x31.png)\n"
   ]
  }
 ],
 "metadata": {
  "kernelspec": {
   "display_name": "Python 3",
   "language": "python",
   "name": "python3"
  },
  "language_info": {
   "codemirror_mode": {
    "name": "ipython",
    "version": 3
   },
   "file_extension": ".py",
   "mimetype": "text/x-python",
   "name": "python",
   "nbconvert_exporter": "python",
   "pygments_lexer": "ipython3",
   "version": "3.8.8"
  }
 },
 "nbformat": 4,
 "nbformat_minor": 2
}
